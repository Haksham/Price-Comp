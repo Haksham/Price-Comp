{
 "cells": [
  {
   "cell_type": "markdown",
   "id": "bdeb4b3e-67d0-468c-a52e-209eef33e0d5",
   "metadata": {},
   "source": [
    "## Fetch data"
   ]
  },
  {
   "cell_type": "code",
   "execution_count": 3,
   "id": "e000b6dc-64ff-4112-8688-d1d17596ea11",
   "metadata": {},
   "outputs": [],
   "source": [
    "import pandas as pd\n",
    "import matplotlib.pyplot as plt\n",
    "import numpy as np\n",
    "df = pd.read_csv(\"data/file.csv\")"
   ]
  },
  {
   "cell_type": "code",
   "execution_count": 4,
   "id": "b2fc0595-c83b-4a65-8aed-8ba8bba4240e",
   "metadata": {},
   "outputs": [],
   "source": [
    "# df.head()\n",
    "# df.info()\n",
    "# df['Product_Category'].value_counts()\n",
    "# df.describe()\n",
    "\n",
    "# df.hist(bins=50,figsize=(20,15))\n",
    "# plt.show()\n",
    "\n",
    "def split(data,test_ratio):\n",
    "    np.random.seed(42)\n",
    "    shuffled=np.random.permutation(len(data))\n",
    "    test_set_size=int(len(data)*test_ratio)\n",
    "    test_indices=shuffled[:test_set_size]\n",
    "    train_indices=shuffled[test_set_size:]\n",
    "    return data.iloc[train_indices],data.iloc[test_indices]\n",
    "\n",
    "# train_set ,test_set=split(df,0.2)\n",
    "# print(len(train_set))\n",
    "# print(len(test_set))"
   ]
  },
  {
   "cell_type": "code",
   "execution_count": 5,
   "id": "0d2e4b1e-d302-4cb9-acc7-d623339d398a",
   "metadata": {},
   "outputs": [
    {
     "name": "stdout",
     "output_type": "stream",
     "text": [
      "CustomerID\n",
      "12748.0    139\n",
      "15311.0    118\n",
      "17841.0    115\n",
      "14606.0    115\n",
      "14911.0    105\n",
      "          ... \n",
      "15749.0      1\n",
      "16062.0      1\n",
      "16359.0      1\n",
      "12808.0      1\n",
      "17420.0      1\n",
      "Name: count, Length: 1354, dtype: int64\n",
      "CustomerID\n",
      "12748.0    556\n",
      "15311.0    469\n",
      "14606.0    460\n",
      "17841.0    457\n",
      "14911.0    418\n",
      "          ... \n",
      "15208.0      2\n",
      "16992.0      2\n",
      "14777.0      2\n",
      "14101.0      2\n",
      "16094.0      2\n",
      "Name: count, Length: 1402, dtype: int64\n"
     ]
    }
   ],
   "source": [
    "# from sklearn.model_selection import train_test_split\n",
    "# train_set, test_set  = train_test_split(df, test_size=0.2, random_state=42)\n",
    "# print(f\"Rows in train set: {len(train_set)}\\nRows in test set: {len(test_set)}\\n\")\n",
    "\n",
    "from sklearn.model_selection import StratifiedShuffleSplit\n",
    "\n",
    "# Drop rows with NaN values in 'CustomerID' column\n",
    "df_cleaned = df.dropna(subset=['CustomerID'])\n",
    "\n",
    "# Filter out classes with only one member\n",
    "customer_counts = df_cleaned['CustomerID'].value_counts()\n",
    "df_filtered = df_cleaned[df_cleaned['CustomerID'].isin(customer_counts[customer_counts > 1].index)].reset_index(drop=True)\n",
    "\n",
    "split = StratifiedShuffleSplit(n_splits=1, test_size=0.2, random_state=42)\n",
    "for train_index, test_index in split.split(df_filtered, df_filtered['CustomerID']):\n",
    "    strat_train_set = df_filtered.iloc[train_index]\n",
    "    strat_test_set = df_filtered.iloc[test_index]\n",
    "\n",
    "print(strat_test_set['CustomerID'].value_counts())\n",
    "print(strat_train_set['CustomerID'].value_counts())\n",
    "df = strat_train_set.copy()"
   ]
  },
  {
   "cell_type": "code",
   "execution_count": 6,
   "id": "bb6cc90a-332f-41ee-ae17-9a14abba94c8",
   "metadata": {},
   "outputs": [
    {
     "name": "stdout",
     "output_type": "stream",
     "text": [
      "GST                 1.000000\n",
      "Unnamed: 0          0.042155\n",
      "Delivery_Charges    0.027668\n",
      "Tenure_Months       0.002305\n",
      "CustomerID         -0.004194\n",
      "Discount_pct       -0.011958\n",
      "Quantity           -0.026051\n",
      "Online_Spend       -0.046509\n",
      "Offline_Spend      -0.077290\n",
      "Month              -0.096240\n",
      "Transaction_ID     -0.101422\n",
      "Avg_Price          -0.577529\n",
      "Name: GST, dtype: float64\n"
     ]
    },
    {
     "data": {
      "text/plain": [
       "<Axes: xlabel='Avg_Price', ylabel='GST'>"
      ]
     },
     "execution_count": 6,
     "metadata": {},
     "output_type": "execute_result"
    },
    {
     "data": {
      "image/png": "[encoded data removed]",
      "text/plain": [
       "<Figure size 640x480 with 1 Axes>"
      ]
     },
     "metadata": {},
     "output_type": "display_data"
    }
   ],
   "source": [
    "import pandas as pd\n",
    "\n",
    "# Ensure all columns used in the correlation matrix are numeric\n",
    "numeric_df = df.select_dtypes(include=[float, int])\n",
    "\n",
    "# Calculate the correlation matrix\n",
    "corr_matrix = numeric_df.corr()\n",
    "\n",
    "# Sort the correlation values for the 'GST' column\n",
    "print(corr_matrix['GST'].sort_values(ascending=False))\n",
    "\n",
    "# Plot the scatter plot\n",
    "df.plot(kind=\"scatter\", x=\"Avg_Price\", y=\"GST\", alpha=0.8)"
   ]
  },
  {
   "cell_type": "code",
   "execution_count": 7,
   "id": "dabce500-f0e9-4bc1-9474-a24fe33f5ff6",
   "metadata": {},
   "outputs": [],
   "source": [
    "df[\"GST_ITEM\"] = df['GST']/df['Quantity']"
   ]
  },
  {
   "cell_type": "code",
   "execution_count": 10,
   "id": "63d0137a-f790-4adc-bde7-ce6a32d509f4",
   "metadata": {},
   "outputs": [
    {
     "data": {
      "text/html": [
       "<div>\n",
       "<style scoped>\n",
       "    .dataframe tbody tr th:only-of-type {\n",
       "        vertical-align: middle;\n",
       "    }\n",
       "\n",
       "    .dataframe tbody tr th {\n",
       "        vertical-align: top;\n",
       "    }\n",
       "\n",
       "    .dataframe thead th {\n",
       "        text-align: right;\n",
       "    }\n",
       "</style>\n",
       "<table border=\"1\" class=\"dataframe\">\n",
       "  <thead>\n",
       "    <tr style=\"text-align: right;\">\n",
       "      <th></th>\n",
       "      <th>Unnamed: 0</th>\n",
       "      <th>CustomerID</th>\n",
       "      <th>Tenure_Months</th>\n",
       "      <th>Transaction_ID</th>\n",
       "      <th>Quantity</th>\n",
       "      <th>Avg_Price</th>\n",
       "      <th>Delivery_Charges</th>\n",
       "      <th>GST</th>\n",
       "      <th>Offline_Spend</th>\n",
       "      <th>Online_Spend</th>\n",
       "      <th>Month</th>\n",
       "      <th>Discount_pct</th>\n",
       "      <th>GST_ITEM</th>\n",
       "    </tr>\n",
       "  </thead>\n",
       "  <tbody>\n",
       "    <tr>\n",
       "      <th>count</th>\n",
       "      <td>42286.000000</td>\n",
       "      <td>42286.000000</td>\n",
       "      <td>42286.000000</td>\n",
       "      <td>42286.000000</td>\n",
       "      <td>42286.000000</td>\n",
       "      <td>42286.000000</td>\n",
       "      <td>42286.000000</td>\n",
       "      <td>42286.000000</td>\n",
       "      <td>42286.000000</td>\n",
       "      <td>42286.000000</td>\n",
       "      <td>42286.000000</td>\n",
       "      <td>42286.000000</td>\n",
       "      <td>42286.000000</td>\n",
       "    </tr>\n",
       "    <tr>\n",
       "      <th>mean</th>\n",
       "      <td>26448.394362</td>\n",
       "      <td>15345.822187</td>\n",
       "      <td>26.128861</td>\n",
       "      <td>32442.423899</td>\n",
       "      <td>4.509814</td>\n",
       "      <td>52.309731</td>\n",
       "      <td>10.610711</td>\n",
       "      <td>0.137481</td>\n",
       "      <td>2830.471078</td>\n",
       "      <td>1892.932672</td>\n",
       "      <td>6.664262</td>\n",
       "      <td>19.957433</td>\n",
       "      <td>0.106562</td>\n",
       "    </tr>\n",
       "    <tr>\n",
       "      <th>std</th>\n",
       "      <td>15285.879084</td>\n",
       "      <td>1766.555129</td>\n",
       "      <td>13.481313</td>\n",
       "      <td>8658.799121</td>\n",
       "      <td>20.224241</td>\n",
       "      <td>64.114334</td>\n",
       "      <td>20.203228</td>\n",
       "      <td>0.045836</td>\n",
       "      <td>937.298895</td>\n",
       "      <td>807.064250</td>\n",
       "      <td>3.337443</td>\n",
       "      <td>8.095042</td>\n",
       "      <td>0.063009</td>\n",
       "    </tr>\n",
       "    <tr>\n",
       "      <th>min</th>\n",
       "      <td>0.000000</td>\n",
       "      <td>12346.000000</td>\n",
       "      <td>2.000000</td>\n",
       "      <td>16679.000000</td>\n",
       "      <td>1.000000</td>\n",
       "      <td>0.390000</td>\n",
       "      <td>0.000000</td>\n",
       "      <td>0.050000</td>\n",
       "      <td>500.000000</td>\n",
       "      <td>320.250000</td>\n",
       "      <td>1.000000</td>\n",
       "      <td>10.000000</td>\n",
       "      <td>0.000063</td>\n",
       "    </tr>\n",
       "    <tr>\n",
       "      <th>25%</th>\n",
       "      <td>13187.500000</td>\n",
       "      <td>13869.000000</td>\n",
       "      <td>15.000000</td>\n",
       "      <td>25398.000000</td>\n",
       "      <td>1.000000</td>\n",
       "      <td>5.700000</td>\n",
       "      <td>6.000000</td>\n",
       "      <td>0.100000</td>\n",
       "      <td>2500.000000</td>\n",
       "      <td>1252.630000</td>\n",
       "      <td>4.000000</td>\n",
       "      <td>10.000000</td>\n",
       "      <td>0.050000</td>\n",
       "    </tr>\n",
       "    <tr>\n",
       "      <th>50%</th>\n",
       "      <td>26464.500000</td>\n",
       "      <td>15311.000000</td>\n",
       "      <td>27.000000</td>\n",
       "      <td>32684.500000</td>\n",
       "      <td>1.000000</td>\n",
       "      <td>16.990000</td>\n",
       "      <td>6.000000</td>\n",
       "      <td>0.180000</td>\n",
       "      <td>3000.000000</td>\n",
       "      <td>1837.870000</td>\n",
       "      <td>7.000000</td>\n",
       "      <td>20.000000</td>\n",
       "      <td>0.100000</td>\n",
       "    </tr>\n",
       "    <tr>\n",
       "      <th>75%</th>\n",
       "      <td>39710.750000</td>\n",
       "      <td>16990.250000</td>\n",
       "      <td>37.000000</td>\n",
       "      <td>39181.750000</td>\n",
       "      <td>2.000000</td>\n",
       "      <td>104.000000</td>\n",
       "      <td>6.500000</td>\n",
       "      <td>0.180000</td>\n",
       "      <td>3500.000000</td>\n",
       "      <td>2425.350000</td>\n",
       "      <td>9.000000</td>\n",
       "      <td>30.000000</td>\n",
       "      <td>0.180000</td>\n",
       "    </tr>\n",
       "    <tr>\n",
       "      <th>max</th>\n",
       "      <td>52923.000000</td>\n",
       "      <td>18283.000000</td>\n",
       "      <td>50.000000</td>\n",
       "      <td>48497.000000</td>\n",
       "      <td>900.000000</td>\n",
       "      <td>355.740000</td>\n",
       "      <td>521.360000</td>\n",
       "      <td>0.180000</td>\n",
       "      <td>5000.000000</td>\n",
       "      <td>4556.930000</td>\n",
       "      <td>12.000000</td>\n",
       "      <td>30.000000</td>\n",
       "      <td>0.180000</td>\n",
       "    </tr>\n",
       "  </tbody>\n",
       "</table>\n",
       "</div>"
      ],
      "text/plain": [
       "         Unnamed: 0    CustomerID  Tenure_Months  Transaction_ID  \\\n",
       "count  42286.000000  42286.000000   42286.000000    42286.000000   \n",
       "mean   26448.394362  15345.822187      26.128861    32442.423899   \n",
       "std    15285.879084   1766.555129      13.481313     8658.799121   \n",
       "min        0.000000  12346.000000       2.000000    16679.000000   \n",
       "25%    13187.500000  13869.000000      15.000000    25398.000000   \n",
       "50%    26464.500000  15311.000000      27.000000    32684.500000   \n",
       "75%    39710.750000  16990.250000      37.000000    39181.750000   \n",
       "max    52923.000000  18283.000000      50.000000    48497.000000   \n",
       "\n",
       "           Quantity     Avg_Price  Delivery_Charges           GST  \\\n",
       "count  42286.000000  42286.000000      42286.000000  42286.000000   \n",
       "mean       4.509814     52.309731         10.610711      0.137481   \n",
       "std       20.224241     64.114334         20.203228      0.045836   \n",
       "min        1.000000      0.390000          0.000000      0.050000   \n",
       "25%        1.000000      5.700000          6.000000      0.100000   \n",
       "50%        1.000000     16.990000          6.000000      0.180000   \n",
       "75%        2.000000    104.000000          6.500000      0.180000   \n",
       "max      900.000000    355.740000        521.360000      0.180000   \n",
       "\n",
       "       Offline_Spend  Online_Spend         Month  Discount_pct      GST_ITEM  \n",
       "count   42286.000000  42286.000000  42286.000000  42286.000000  42286.000000  \n",
       "mean     2830.471078   1892.932672      6.664262     19.957433      0.106562  \n",
       "std       937.298895    807.064250      3.337443      8.095042      0.063009  \n",
       "min       500.000000    320.250000      1.000000     10.000000      0.000063  \n",
       "25%      2500.000000   1252.630000      4.000000     10.000000      0.050000  \n",
       "50%      3000.000000   1837.870000      7.000000     20.000000      0.100000  \n",
       "75%      3500.000000   2425.350000      9.000000     30.000000      0.180000  \n",
       "max      5000.000000   4556.930000     12.000000     30.000000      0.180000  "
      ]
     },
     "execution_count": 10,
     "metadata": {},
     "output_type": "execute_result"
    }
   ],
   "source": [
    "from sklearn.impute import SimpleImputer\n",
    "\n",
    "# Select only numeric columns\n",
    "numeric_df = df.select_dtypes(include=[np.number])\n",
    "\n",
    "imputer = SimpleImputer(strategy=\"median\")\n",
    "imputer.fit(numeric_df)\n",
    "imputer.statistics_\n",
    "X = imputer.transform(numeric_df)\n",
    "df_tr = pd.DataFrame(X, columns=numeric_df.columns)\n",
    "df_tr.describe()"
   ]
  },
  {
   "cell_type": "code",
   "execution_count": 12,
   "id": "aae012d9",
   "metadata": {},
   "outputs": [
    {
     "data": {
      "text/plain": [
       "(42286, 13)"
      ]
     },
     "execution_count": 12,
     "metadata": {},
     "output_type": "execute_result"
    }
   ],
   "source": [
    "from sklearn.pipeline import Pipeline\n",
    "from sklearn.preprocessing import StandardScaler\n",
    "\n",
    "# Select only numeric columns\n",
    "numeric_df = df.select_dtypes(include=[np.number])\n",
    "\n",
    "my_pipeline = Pipeline([\n",
    "    ('imputer', SimpleImputer(strategy=\"median\")),\n",
    "    #     ..... add as many as you want in your pipeline\n",
    "    ('std_scaler', StandardScaler()),\n",
    "])\n",
    "df_num_tr = my_pipeline.fit_transform(numeric_df)\n",
    "df_num_tr.shape"
   ]
  },
  {
   "cell_type": "code",
   "execution_count": 15,
   "id": "117afcd1",
   "metadata": {},
   "outputs": [
    {
     "name": "stdout",
     "output_type": "stream",
     "text": [
      "Predictions: [np.float64(0.10000000000000417), np.float64(0.17999999999997904), np.float64(0.17999999999997904), np.float64(0.1000000000000051), np.float64(0.10000000000000073)]\n",
      "Actual labels: [0.1, 0.18, 0.18, 0.1, 0.1]\n"
     ]
    }
   ],
   "source": [
    "from sklearn.linear_model import LinearRegression\n",
    "from sklearn.tree import DecisionTreeRegressor\n",
    "from sklearn.ensemble import RandomForestRegressor\n",
    "# model = LinearRegression()\n",
    "# model = DecisionTreeRegressor()\n",
    "model = RandomForestRegressor()\n",
    "df_labels = df[\"GST\"]  # Assuming 'GST' is the target variable\n",
    "model.fit(df_num_tr, df_labels)\n",
    "\n",
    "some_data = df.iloc[:5]\n",
    "some_labels = df_labels.iloc[:5]\n",
    "# Select only numeric columns from some_data\n",
    "some_data_numeric = some_data.select_dtypes(include=[np.number])\n",
    "\n",
    "# Transform the numeric data\n",
    "prepared_data = my_pipeline.transform(some_data_numeric)\n",
    "\n",
    "# Predict using the model\n",
    "predictions = model.predict(prepared_data)\n",
    "\n",
    "# Display the predictions and actual labels\n",
    "print(\"Predictions:\", list(predictions))\n",
    "print(\"Actual labels:\", list(some_labels))"
   ]
  },
  {
   "cell_type": "code",
   "execution_count": 16,
   "id": "df752555",
   "metadata": {},
   "outputs": [
    {
     "data": {
      "text/plain": [
       "np.float64(1.5277460969388033e-14)"
      ]
     },
     "execution_count": 16,
     "metadata": {},
     "output_type": "execute_result"
    }
   ],
   "source": [
    "from sklearn.metrics import mean_squared_error\n",
    "df_predictions = model.predict(df_num_tr)\n",
    "mse = mean_squared_error(df_labels, df_predictions)\n",
    "rmse = np.sqrt(mse)\n",
    "rmse"
   ]
  },
  {
   "cell_type": "code",
   "execution_count": 17,
   "id": "544aa2e5",
   "metadata": {},
   "outputs": [
    {
     "name": "stdout",
     "output_type": "stream",
     "text": [
      "Scores: [1.36140587e-14 1.35817038e-14 1.35224619e-14 1.35964242e-14\n",
      " 1.36087716e-14 1.35192027e-14 1.35721358e-14 1.34545241e-14\n",
      " 1.35863893e-14 1.33993253e-14]\n",
      "Mean:  1.354549973571495e-14\n",
      "Standard deviation:  6.771627034420989e-17\n"
     ]
    }
   ],
   "source": [
    "from sklearn.model_selection import cross_val_score\n",
    "scores = cross_val_score(model, df_num_tr, df_labels, scoring=\"neg_mean_squared_error\", cv=10)\n",
    "rmse_scores = np.sqrt(-scores)\n",
    "\n",
    "rmse_scores\n",
    "\n",
    "def print_scores(scores):\n",
    "    print(\"Scores:\", scores)\n",
    "    print(\"Mean: \", scores.mean())\n",
    "    print(\"Standard deviation: \", scores.std())\n",
    "    \n",
    "print_scores(rmse_scores)"
   ]
  },
  {
   "cell_type": "code",
   "execution_count": 21,
   "id": "21857ba3",
   "metadata": {},
   "outputs": [
    {
     "data": {
      "text/plain": [
       "np.float64(82.13561064869796)"
      ]
     },
     "execution_count": 21,
     "metadata": {},
     "output_type": "execute_result"
    }
   ],
   "source": [
    "from joblib import dump, load\n",
    "dump(model, 'price.joblib') \n",
    "\n",
    "# Ensure the test set has the same columns as the training set\n",
    "X_test = strat_test_set.drop(\"Avg_Price\", axis=1)\n",
    "Y_test = strat_test_set[\"Avg_Price\"].copy()\n",
    "\n",
    "# Add missing columns with default values\n",
    "X_test[\"Avg_Price\"] = strat_test_set[\"Avg_Price\"]\n",
    "X_test[\"GST_ITEM\"] = strat_test_set[\"GST\"] / strat_test_set[\"Quantity\"]\n",
    "\n",
    "# Select only numeric columns and ensure they match the training set\n",
    "X_test_numeric = X_test.select_dtypes(include=[np.number])\n",
    "X_test_numeric = X_test_numeric[numeric_df.columns]  # Ensure the columns are in the same order\n",
    "X_test_prepared = my_pipeline.transform(X_test_numeric)\n",
    "\n",
    "final_predictions = model.predict(X_test_prepared)\n",
    "final_mse = mean_squared_error(Y_test, final_predictions)\n",
    "final_rmse = np.sqrt(final_mse)\n",
    "final_rmse"
   ]
  },
  {
   "cell_type": "code",
   "execution_count": 22,
   "id": "8b58d6e0",
   "metadata": {},
   "outputs": [
    {
     "data": {
      "text/plain": [
       "array([0.18])"
      ]
     },
     "execution_count": 22,
     "metadata": {},
     "output_type": "execute_result"
    }
   ],
   "source": [
    "from joblib import dump, load\n",
    "import numpy as np\n",
    "model = load('price.joblib') \n",
    "features = np.array([[-5.43942006, 4.12628155, -1.6165014, -0.67288841, -1.42262747,\n",
    "       -11.44443979304, -49.31238772,  7.61111401, -26.0016879 , -0.5778192 ,\n",
    "       -0.97491834,  0.41164221, -66.86091034]])\n",
    "model.predict(features)"
   ]
  }
 ],
 "metadata": {
  "kernelspec": {
   "display_name": "Python 3 (ipykernel)",
   "language": "python",
   "name": "python3"
  },
  "language_info": {
   "codemirror_mode": {
    "name": "ipython",
    "version": 3
   },
   "file_extension": ".py",
   "mimetype": "text/x-python",
   "name": "python",
   "nbconvert_exporter": "python",
   "pygments_lexer": "ipython3",
   "version": "3.12.1"
  }
 },
 "nbformat": 4,
 "nbformat_minor": 5
}
