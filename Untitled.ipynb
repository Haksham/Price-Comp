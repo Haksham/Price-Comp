{
 "cells": [
  {
   "cell_type": "markdown",
   "id": "bdeb4b3e-67d0-468c-a52e-209eef33e0d5",
   "metadata": {},
   "source": [
    "## Fetch data"
   ]
  },
  {
   "cell_type": "code",
   "execution_count": 1,
   "id": "e000b6dc-64ff-4112-8688-d1d17596ea11",
   "metadata": {},
   "outputs": [],
   "source": [
    "import pandas as pd\n",
    "import matplotlib.pyplot as plt\n",
    "import numpy as np\n",
    "df = pd.read_csv(\"data/file.csv\")"
   ]
  },
  {
   "cell_type": "code",
   "execution_count": null,
   "id": "b2fc0595-c83b-4a65-8aed-8ba8bba4240e",
   "metadata": {},
   "outputs": [],
   "source": [
    "# df.head()\n",
    "# df.info()\n",
    "# df['Product_Category'].value_counts()\n",
    "# df.describe()\n",
    "\n",
    "# df.hist(bins=50,figsize=(20,15))\n",
    "# plt.show()\n",
    "\n",
    "def split(data,test_ratio):\n",
    "    np.random.seed(42)\n",
    "    shuffled=np.random.permutation(len(data))\n",
    "    test_set_size=int(len(data)*test_ratio)\n",
    "    test_indices=shuffled[:test_set_size]\n",
    "    train_indices=shuffled[test_set_size:]\n",
    "    return data.iloc[train_indices],data.iloc[test_indices]\n",
    "\n",
    "# train_set ,test_set=split(df,0.2)\n",
    "# print(len(train_set))\n",
    "# print(len(test_set))"
   ]
  },
  {
   "cell_type": "code",
   "execution_count": 3,
   "id": "0d2e4b1e-d302-4cb9-acc7-d623339d398a",
   "metadata": {},
   "outputs": [
    {
     "name": "stdout",
     "output_type": "stream",
     "text": [
      "CustomerID\n",
      "12748.0    111\n",
      "15311.0     94\n",
      "14606.0     92\n",
      "17841.0     92\n",
      "14911.0     84\n",
      "          ... \n",
      "13787.0      1\n",
      "16752.0      1\n",
      "17646.0      1\n",
      "17873.0      1\n",
      "15081.0      1\n",
      "Name: count, Length: 1316, dtype: int64\n",
      "CustomerID\n",
      "12748.0    445\n",
      "15311.0    375\n",
      "14606.0    368\n",
      "17841.0    365\n",
      "14911.0    334\n",
      "          ... \n",
      "14895.0      2\n",
      "12346.0      2\n",
      "15181.0      2\n",
      "16950.0      2\n",
      "13929.0      2\n",
      "Name: count, Length: 1402, dtype: int64\n"
     ]
    }
   ],
   "source": [
    "# from sklearn.model_selection import train_test_split\n",
    "# train_set, test_set  = train_test_split(df, test_size=0.2, random_state=42)\n",
    "# print(f\"Rows in train set: {len(train_set)}\\nRows in test set: {len(test_set)}\\n\")\n",
    "\n",
    "from sklearn.model_selection import StratifiedShuffleSplit\n",
    "\n",
    "# Drop rows with NaN values in 'CustomerID' column\n",
    "df_cleaned = df.dropna(subset=['CustomerID'])\n",
    "\n",
    "# Filter out classes with only one member\n",
    "customer_counts = df_cleaned['CustomerID'].value_counts()\n",
    "df_filtered = df_cleaned[df_cleaned['CustomerID'].isin(customer_counts[customer_counts > 1].index)].reset_index(drop=True)\n",
    "\n",
    "split = StratifiedShuffleSplit(n_splits=1, test_size=0.2, random_state=42)\n",
    "for train_index, test_index in split.split(df_filtered, df_filtered['CustomerID']):\n",
    "    strat_train_set = df_filtered.iloc[train_index]\n",
    "    strat_test_set = df_filtered.iloc[test_index]\n",
    "\n",
    "print(strat_test_set['CustomerID'].value_counts())\n",
    "print(strat_train_set['CustomerID'].value_counts())\n",
    "df = strat_train_set.copy()"
   ]
  },
  {
   "cell_type": "code",
   "execution_count": 4,
   "id": "bb6cc90a-332f-41ee-ae17-9a14abba94c8",
   "metadata": {},
   "outputs": [
    {
     "data": {
      "text/plain": [
       "13.571428571428571"
      ]
     },
     "execution_count": 4,
     "metadata": {},
     "output_type": "execute_result"
    }
   ],
   "source": []
  },
  {
   "cell_type": "code",
   "execution_count": null,
   "id": "dabce500-f0e9-4bc1-9474-a24fe33f5ff6",
   "metadata": {},
   "outputs": [],
   "source": []
  }
 ],
 "metadata": {
  "kernelspec": {
   "display_name": "Python 3 (ipykernel)",
   "language": "python",
   "name": "python3"
  },
  "language_info": {
   "codemirror_mode": {
    "name": "ipython",
    "version": 3
   },
   "file_extension": ".py",
   "mimetype": "text/x-python",
   "name": "python",
   "nbconvert_exporter": "python",
   "pygments_lexer": "ipython3",
   "version": "3.12.1"
  }
 },
 "nbformat": 4,
 "nbformat_minor": 5
}
