{
 "cells": [
  {
   "cell_type": "markdown",
   "id": "bdeb4b3e-67d0-468c-a52e-209eef33e0d5",
   "metadata": {},
   "source": [
    "## Fetch data"
   ]
  },
  {
   "cell_type": "code",
   "execution_count": 59,
   "id": "e000b6dc-64ff-4112-8688-d1d17596ea11",
   "metadata": {},
   "outputs": [],
   "source": [
    "import pandas as pd\n",
    "import matplotlib.pyplot as plt\n",
    "import numpy as np\n",
    "df = pd.read_csv(\"file.csv\")"
   ]
  },
  {
   "cell_type": "code",
   "execution_count": 60,
   "id": "b2fc0595-c83b-4a65-8aed-8ba8bba4240e",
   "metadata": {},
   "outputs": [],
   "source": [
    "# df.head()\n",
    "# df.info()\n",
    "# df['Product_Category'].value_counts()\n",
    "# df.describe()\n",
    "\n",
    "# df.hist(bins=50,figsize=(20,15))\n",
    "# plt.show()\n",
    "\n",
    "def split(data,test_ratio):\n",
    "    np.random.seed(42)\n",
    "    shuffled=np.random.permutation(len(data))\n",
    "    test_set_size=int(len(data)*test_ratio)\n",
    "    test_indices=shuffled[:test_set_size]\n",
    "    train_indices=shuffled[test_set_size:]\n",
    "    return data.iloc[train_indices],data.iloc[test_indices]\n",
    "\n",
    "# train_set ,test_set=split(df,0.2)\n",
    "# print(len(train_set))\n",
    "# print(len(test_set))"
   ]
  },
  {
   "cell_type": "code",
   "execution_count": 61,
   "id": "0d2e4b1e-d302-4cb9-acc7-d623339d398a",
   "metadata": {},
   "outputs": [
    {
     "name": "stdout",
     "output_type": "stream",
     "text": [
      "CustomerID\n",
      "212535    132\n",
      "212732    129\n",
      "212733    125\n",
      "212734    118\n",
      "212510    114\n",
      "         ... \n",
      "630233      6\n",
      "630229      5\n",
      "630378      5\n",
      "630380      4\n",
      "630379      4\n",
      "Name: count, Length: 590, dtype: int64\n",
      "CustomerID\n",
      "212535    527\n",
      "212732    517\n",
      "212733    501\n",
      "212734    471\n",
      "212518    455\n",
      "         ... \n",
      "630231     23\n",
      "630229     20\n",
      "630378     19\n",
      "630379     18\n",
      "630380     17\n",
      "Name: count, Length: 590, dtype: int64\n"
     ]
    }
   ],
   "source": [
    "# from sklearn.model_selection import train_test_split\n",
    "# train_set, test_set  = train_test_split(df, test_size=0.2, random_state=42)\n",
    "# print(f\"Rows in train set: {len(train_set)}\\nRows in test set: {len(test_set)}\\n\")\n",
    "\n",
    "from sklearn.model_selection import StratifiedShuffleSplit\n",
    "\n",
    "\n",
    "df_cleaned = df.dropna(subset=['CustomerID'])\n",
    "\n",
    "\n",
    "customer_counts = df_cleaned['CustomerID'].value_counts()\n",
    "df_filtered = df_cleaned[df_cleaned['CustomerID'].isin(customer_counts[customer_counts > 1].index)].reset_index(drop=True)\n",
    "\n",
    "split = StratifiedShuffleSplit(n_splits=1, test_size=0.2, random_state=42)\n",
    "for train_index, test_index in split.split(df_filtered, df_filtered['CustomerID']):\n",
    "    strat_train_set = df_filtered.iloc[train_index]\n",
    "    strat_test_set = df_filtered.iloc[test_index]\n",
    "\n",
    "print(strat_test_set['CustomerID'].value_counts())\n",
    "print(strat_train_set['CustomerID'].value_counts())\n",
    "df = strat_train_set.copy()"
   ]
  },
  {
   "cell_type": "code",
   "execution_count": 62,
   "id": "bb6cc90a-332f-41ee-ae17-9a14abba94c8",
   "metadata": {},
   "outputs": [
    {
     "name": "stdout",
     "output_type": "stream",
     "text": [
      "BASE_PRICE            1.000000\n",
      "PRICE                 0.963792\n",
      "CustomerID            0.139527\n",
      "SHOP_CODE             0.069748\n",
      "SHOP_TYPE             0.040285\n",
      "STRATUM_WEIGHT        0.032721\n",
      "STRATUM_TYPE          0.032510\n",
      "VALIDITY              0.026434\n",
      "BASE_VALIDITY        -0.006254\n",
      "START_DATE           -0.008716\n",
      "PRICE_RELATIVE       -0.012442\n",
      "QUANTITY             -0.020887\n",
      "SHOP_WEIGHT          -0.038241\n",
      "LOG_PRICE_RELATIVE   -0.043750\n",
      "STRATUM_CELL         -0.112715\n",
      "QUOTE_DATE                 NaN\n",
      "END_DATE                   NaN\n",
      "Name: BASE_PRICE, dtype: float64\n"
     ]
    },
    {
     "data": {
      "text/plain": [
       "<Axes: xlabel='PRICE_RELATIVE', ylabel='BASE_PRICE'>"
      ]
     },
     "execution_count": 62,
     "metadata": {},
     "output_type": "execute_result"
    },
    {
     "data": {
      "image/png": "[encoded data removed]",
      "text/plain": [
       "<Figure size 640x480 with 1 Axes>"
      ]
     },
     "metadata": {},
     "output_type": "display_data"
    }
   ],
   "source": [
    "import pandas as pd\n",
    "\n",
    "\n",
    "numeric_df = df.select_dtypes(include=[float, int])\n",
    "\n",
    "\n",
    "corr_matrix = numeric_df.corr()\n",
    "\n",
    "\n",
    "print(corr_matrix['BASE_PRICE'].sort_values(ascending=False))\n",
    "\n",
    "\n",
    "df.plot(kind=\"scatter\", x=\"PRICE_RELATIVE\", y=\"BASE_PRICE\", alpha=0.8)"
   ]
  },
  {
   "cell_type": "code",
   "execution_count": 63,
   "id": "dabce500-f0e9-4bc1-9474-a24fe33f5ff6",
   "metadata": {},
   "outputs": [],
   "source": [
    "df[\"PRICE_RELATIVE\"] = df['BASE_PRICE']/df['QUANTITY']"
   ]
  },
  {
   "cell_type": "code",
   "execution_count": 64,
   "id": "63d0137a-f790-4adc-bde7-ce6a32d509f4",
   "metadata": {},
   "outputs": [
    {
     "data": {
      "text/html": [
       "<div>\n",
       "<style scoped>\n",
       "    .dataframe tbody tr th:only-of-type {\n",
       "        vertical-align: middle;\n",
       "    }\n",
       "\n",
       "    .dataframe tbody tr th {\n",
       "        vertical-align: top;\n",
       "    }\n",
       "\n",
       "    .dataframe thead th {\n",
       "        text-align: right;\n",
       "    }\n",
       "</style>\n",
       "<table border=\"1\" class=\"dataframe\">\n",
       "  <thead>\n",
       "    <tr style=\"text-align: right;\">\n",
       "      <th></th>\n",
       "      <th>QUOTE_DATE</th>\n",
       "      <th>CustomerID</th>\n",
       "      <th>VALIDITY</th>\n",
       "      <th>SHOP_CODE</th>\n",
       "      <th>PRICE</th>\n",
       "      <th>PRICE_RELATIVE</th>\n",
       "      <th>LOG_PRICE_RELATIVE</th>\n",
       "      <th>STRATUM_WEIGHT</th>\n",
       "      <th>STRATUM_TYPE</th>\n",
       "      <th>START_DATE</th>\n",
       "      <th>END_DATE</th>\n",
       "      <th>QUANTITY</th>\n",
       "      <th>SHOP_TYPE</th>\n",
       "      <th>SHOP_WEIGHT</th>\n",
       "      <th>BASE_PRICE</th>\n",
       "      <th>BASE_VALIDITY</th>\n",
       "      <th>STRATUM_CELL</th>\n",
       "    </tr>\n",
       "  </thead>\n",
       "  <tbody>\n",
       "    <tr>\n",
       "      <th>count</th>\n",
       "      <td>111535.0</td>\n",
       "      <td>111535.000000</td>\n",
       "      <td>111535.000000</td>\n",
       "      <td>111535.000000</td>\n",
       "      <td>111535.000000</td>\n",
       "      <td>111535.000000</td>\n",
       "      <td>111535.000000</td>\n",
       "      <td>111535.000000</td>\n",
       "      <td>111535.000000</td>\n",
       "      <td>111535.000000</td>\n",
       "      <td>111535.0</td>\n",
       "      <td>111535.000000</td>\n",
       "      <td>111535.000000</td>\n",
       "      <td>111535.000000</td>\n",
       "      <td>111535.000000</td>\n",
       "      <td>111535.000000</td>\n",
       "      <td>111535.000000</td>\n",
       "    </tr>\n",
       "    <tr>\n",
       "      <th>mean</th>\n",
       "      <td>202301.0</td>\n",
       "      <td>376655.099951</td>\n",
       "      <td>2.894284</td>\n",
       "      <td>1034.056404</td>\n",
       "      <td>53.196529</td>\n",
       "      <td>11.968519</td>\n",
       "      <td>0.081086</td>\n",
       "      <td>29.652423</td>\n",
       "      <td>1.844121</td>\n",
       "      <td>202204.687721</td>\n",
       "      <td>999999.0</td>\n",
       "      <td>6.726597</td>\n",
       "      <td>1.331923</td>\n",
       "      <td>1.155234</td>\n",
       "      <td>53.135180</td>\n",
       "      <td>3.145371</td>\n",
       "      <td>4.877025</td>\n",
       "    </tr>\n",
       "    <tr>\n",
       "      <th>std</th>\n",
       "      <td>0.0</td>\n",
       "      <td>149600.774349</td>\n",
       "      <td>0.650175</td>\n",
       "      <td>2887.320366</td>\n",
       "      <td>252.906986</td>\n",
       "      <td>72.532588</td>\n",
       "      <td>0.235216</td>\n",
       "      <td>30.481950</td>\n",
       "      <td>0.972656</td>\n",
       "      <td>13.106222</td>\n",
       "      <td>0.0</td>\n",
       "      <td>3.427574</td>\n",
       "      <td>0.654603</td>\n",
       "      <td>0.760615</td>\n",
       "      <td>244.952862</td>\n",
       "      <td>0.589939</td>\n",
       "      <td>4.825675</td>\n",
       "    </tr>\n",
       "    <tr>\n",
       "      <th>min</th>\n",
       "      <td>202301.0</td>\n",
       "      <td>210102.000000</td>\n",
       "      <td>1.000000</td>\n",
       "      <td>1.000000</td>\n",
       "      <td>0.000000</td>\n",
       "      <td>0.000000</td>\n",
       "      <td>-2.701000</td>\n",
       "      <td>0.000000</td>\n",
       "      <td>0.000000</td>\n",
       "      <td>202202.000000</td>\n",
       "      <td>999999.0</td>\n",
       "      <td>1.000000</td>\n",
       "      <td>1.000000</td>\n",
       "      <td>1.000000</td>\n",
       "      <td>0.000000</td>\n",
       "      <td>0.000000</td>\n",
       "      <td>0.000000</td>\n",
       "    </tr>\n",
       "    <tr>\n",
       "      <th>25%</th>\n",
       "      <td>202301.0</td>\n",
       "      <td>212712.000000</td>\n",
       "      <td>3.000000</td>\n",
       "      <td>41.000000</td>\n",
       "      <td>1.350000</td>\n",
       "      <td>0.277778</td>\n",
       "      <td>0.000000</td>\n",
       "      <td>7.740000</td>\n",
       "      <td>1.000000</td>\n",
       "      <td>202202.000000</td>\n",
       "      <td>999999.0</td>\n",
       "      <td>4.000000</td>\n",
       "      <td>1.000000</td>\n",
       "      <td>1.000000</td>\n",
       "      <td>1.750000</td>\n",
       "      <td>3.000000</td>\n",
       "      <td>1.000000</td>\n",
       "    </tr>\n",
       "    <tr>\n",
       "      <th>50%</th>\n",
       "      <td>202301.0</td>\n",
       "      <td>430127.000000</td>\n",
       "      <td>3.000000</td>\n",
       "      <td>92.000000</td>\n",
       "      <td>4.450000</td>\n",
       "      <td>0.937500</td>\n",
       "      <td>0.061000</td>\n",
       "      <td>11.360000</td>\n",
       "      <td>2.000000</td>\n",
       "      <td>202202.000000</td>\n",
       "      <td>999999.0</td>\n",
       "      <td>7.000000</td>\n",
       "      <td>1.000000</td>\n",
       "      <td>1.000000</td>\n",
       "      <td>5.000000</td>\n",
       "      <td>3.000000</td>\n",
       "      <td>3.000000</td>\n",
       "    </tr>\n",
       "    <tr>\n",
       "      <th>75%</th>\n",
       "      <td>202301.0</td>\n",
       "      <td>510349.000000</td>\n",
       "      <td>3.000000</td>\n",
       "      <td>904.000000</td>\n",
       "      <td>17.600000</td>\n",
       "      <td>3.535670</td>\n",
       "      <td>0.176000</td>\n",
       "      <td>71.650000</td>\n",
       "      <td>3.000000</td>\n",
       "      <td>202202.000000</td>\n",
       "      <td>999999.0</td>\n",
       "      <td>9.000000</td>\n",
       "      <td>1.000000</td>\n",
       "      <td>1.000000</td>\n",
       "      <td>18.000000</td>\n",
       "      <td>3.000000</td>\n",
       "      <td>8.000000</td>\n",
       "    </tr>\n",
       "    <tr>\n",
       "      <th>max</th>\n",
       "      <td>202301.0</td>\n",
       "      <td>640406.000000</td>\n",
       "      <td>4.000000</td>\n",
       "      <td>18550.000000</td>\n",
       "      <td>21000.000000</td>\n",
       "      <td>9985.928500</td>\n",
       "      <td>2.245000</td>\n",
       "      <td>86.100000</td>\n",
       "      <td>3.000000</td>\n",
       "      <td>202301.000000</td>\n",
       "      <td>999999.0</td>\n",
       "      <td>13.000000</td>\n",
       "      <td>4.000000</td>\n",
       "      <td>21.000000</td>\n",
       "      <td>19971.857000</td>\n",
       "      <td>4.000000</td>\n",
       "      <td>26.000000</td>\n",
       "    </tr>\n",
       "  </tbody>\n",
       "</table>\n",
       "</div>"
      ],
      "text/plain": [
       "       QUOTE_DATE     CustomerID       VALIDITY      SHOP_CODE          PRICE  \\\n",
       "count    111535.0  111535.000000  111535.000000  111535.000000  111535.000000   \n",
       "mean     202301.0  376655.099951       2.894284    1034.056404      53.196529   \n",
       "std           0.0  149600.774349       0.650175    2887.320366     252.906986   \n",
       "min      202301.0  210102.000000       1.000000       1.000000       0.000000   \n",
       "25%      202301.0  212712.000000       3.000000      41.000000       1.350000   \n",
       "50%      202301.0  430127.000000       3.000000      92.000000       4.450000   \n",
       "75%      202301.0  510349.000000       3.000000     904.000000      17.600000   \n",
       "max      202301.0  640406.000000       4.000000   18550.000000   21000.000000   \n",
       "\n",
       "       PRICE_RELATIVE  LOG_PRICE_RELATIVE  STRATUM_WEIGHT   STRATUM_TYPE  \\\n",
       "count   111535.000000       111535.000000   111535.000000  111535.000000   \n",
       "mean        11.968519            0.081086       29.652423       1.844121   \n",
       "std         72.532588            0.235216       30.481950       0.972656   \n",
       "min          0.000000           -2.701000        0.000000       0.000000   \n",
       "25%          0.277778            0.000000        7.740000       1.000000   \n",
       "50%          0.937500            0.061000       11.360000       2.000000   \n",
       "75%          3.535670            0.176000       71.650000       3.000000   \n",
       "max       9985.928500            2.245000       86.100000       3.000000   \n",
       "\n",
       "          START_DATE  END_DATE       QUANTITY      SHOP_TYPE    SHOP_WEIGHT  \\\n",
       "count  111535.000000  111535.0  111535.000000  111535.000000  111535.000000   \n",
       "mean   202204.687721  999999.0       6.726597       1.331923       1.155234   \n",
       "std        13.106222       0.0       3.427574       0.654603       0.760615   \n",
       "min    202202.000000  999999.0       1.000000       1.000000       1.000000   \n",
       "25%    202202.000000  999999.0       4.000000       1.000000       1.000000   \n",
       "50%    202202.000000  999999.0       7.000000       1.000000       1.000000   \n",
       "75%    202202.000000  999999.0       9.000000       1.000000       1.000000   \n",
       "max    202301.000000  999999.0      13.000000       4.000000      21.000000   \n",
       "\n",
       "          BASE_PRICE  BASE_VALIDITY   STRATUM_CELL  \n",
       "count  111535.000000  111535.000000  111535.000000  \n",
       "mean       53.135180       3.145371       4.877025  \n",
       "std       244.952862       0.589939       4.825675  \n",
       "min         0.000000       0.000000       0.000000  \n",
       "25%         1.750000       3.000000       1.000000  \n",
       "50%         5.000000       3.000000       3.000000  \n",
       "75%        18.000000       3.000000       8.000000  \n",
       "max     19971.857000       4.000000      26.000000  "
      ]
     },
     "execution_count": 64,
     "metadata": {},
     "output_type": "execute_result"
    }
   ],
   "source": [
    "from sklearn.impute import SimpleImputer\n",
    "\n",
    "numeric_df = df.select_dtypes(include=[np.number])\n",
    "\n",
    "imputer = SimpleImputer(strategy=\"median\")\n",
    "imputer.fit(numeric_df)\n",
    "imputer.statistics_\n",
    "X = imputer.transform(numeric_df)\n",
    "df_tr = pd.DataFrame(X, columns=numeric_df.columns)\n",
    "df_tr.describe()"
   ]
  },
  {
   "cell_type": "code",
   "execution_count": 65,
   "id": "aae012d9",
   "metadata": {},
   "outputs": [
    {
     "data": {
      "text/plain": [
       "(111535, 17)"
      ]
     },
     "execution_count": 65,
     "metadata": {},
     "output_type": "execute_result"
    }
   ],
   "source": [
    "from sklearn.pipeline import Pipeline\n",
    "from sklearn.preprocessing import StandardScaler\n",
    "\n",
    "\n",
    "numeric_df = df.select_dtypes(include=[np.number])\n",
    "\n",
    "my_pipeline = Pipeline([\n",
    "    ('imputer', SimpleImputer(strategy=\"median\")),\n",
    "    ('std_scaler', StandardScaler()),\n",
    "])\n",
    "df_num_tr = my_pipeline.fit_transform(numeric_df)\n",
    "df_num_tr.shape"
   ]
  },
  {
   "cell_type": "code",
   "execution_count": 66,
   "id": "117afcd1",
   "metadata": {},
   "outputs": [
    {
     "name": "stdout",
     "output_type": "stream",
     "text": [
      "Predictions: [np.float64(39.85393000000002), np.float64(1.25), np.float64(2.25), np.float64(19.015580000000014), np.float64(0.577940000000001)]\n",
      "Actual labels: [39.858, 1.25, 2.25, 19.018, 0.578]\n"
     ]
    }
   ],
   "source": [
    "from sklearn.linear_model import LinearRegression\n",
    "from sklearn.tree import DecisionTreeRegressor\n",
    "from sklearn.ensemble import RandomForestRegressor\n",
    "# model = LinearRegression()\n",
    "# model = DecisionTreeRegressor()\n",
    "model = RandomForestRegressor()\n",
    "df_labels = df[\"BASE_PRICE\"]\n",
    "model.fit(df_num_tr, df_labels)\n",
    "\n",
    "some_data = df.iloc[:5]\n",
    "some_labels = df_labels.iloc[:5]\n",
    "\n",
    "some_data_numeric = some_data.select_dtypes(include=[np.number])\n",
    "\n",
    "prepared_data = my_pipeline.transform(some_data_numeric)\n",
    "\n",
    "predictions = model.predict(prepared_data)\n",
    "\n",
    "print(\"Predictions:\", list(predictions))\n",
    "print(\"Actual labels:\", list(some_labels))"
   ]
  },
  {
   "cell_type": "code",
   "execution_count": 67,
   "id": "df752555",
   "metadata": {},
   "outputs": [
    {
     "data": {
      "text/plain": [
       "np.float64(9.528295865974638)"
      ]
     },
     "execution_count": 67,
     "metadata": {},
     "output_type": "execute_result"
    }
   ],
   "source": [
    "from sklearn.metrics import mean_squared_error\n",
    "df_predictions = model.predict(df_num_tr)\n",
    "mse = mean_squared_error(df_labels, df_predictions)\n",
    "rmse = np.sqrt(mse)\n",
    "rmse"
   ]
  },
  {
   "cell_type": "code",
   "execution_count": null,
   "id": "544aa2e5",
   "metadata": {},
   "outputs": [],
   "source": [
    "from sklearn.model_selection import cross_val_score\n",
    "scores = cross_val_score(model, df_num_tr, df_labels, scoring=\"neg_mean_squared_error\", cv=10)\n",
    "rmse_scores = np.sqrt(-scores)\n",
    "\n",
    "rmse_scores\n",
    "\n",
    "def print_scores(scores):\n",
    "    print(\"Scores:\", scores)\n",
    "    print(\"Mean: \", scores.mean())\n",
    "    print(\"Standard deviation: \", scores.std())\n",
    "    \n",
    "print_scores(rmse_scores)"
   ]
  },
  {
   "cell_type": "code",
   "execution_count": null,
   "id": "21857ba3",
   "metadata": {},
   "outputs": [],
   "source": [
    "from joblib import dump, load\n",
    "dump(model, 'price.joblib') \n",
    "\n",
    "\n",
    "X_test = strat_test_set.drop(\"BASE_PRICE\", axis=1)\n",
    "Y_test = strat_test_set[\"BASE_VALIDITYBASE_PRICE\"].copy()\n",
    "\n",
    "\n",
    "X_test[\"BASE_PRICE\"] = strat_test_set[\"BASE_PRICE\"]\n",
    "X_test[\"PRICE\"] = strat_test_set[\"PRICE_RELATIVE\"] / strat_test_set[\"QUANTITY\"]\n",
    "\n",
    "\n",
    "X_test = X_test.apply(pd.to_numeric, errors='coerce')\n",
    "\n",
    "\n",
    "X_test_numeric = X_test.select_dtypes(include=[np.number])\n",
    "X_test_numeric = X_test_numeric[numeric_df.columns] \n",
    "X_test_prepared = my_pipeline.transform(X_test_numeric)\n",
    "\n",
    "final_predictions = model.predict(X_test_prepared)\n",
    "final_mse = mean_squared_error(Y_test, final_predictions)\n",
    "final_rmse = np.sqrt(final_mse)\n",
    "final_rmse\n",
    "\n",
    "import pickle\n",
    "pickle.dump(model,open(\"scaling.pkl\",\"wb\"))\n",
    "\n"
   ]
  },
  {
   "cell_type": "code",
   "execution_count": 40,
   "id": "8b58d6e0",
   "metadata": {},
   "outputs": [
    {
     "name": "stdout",
     "output_type": "stream",
     "text": [
      "Mean Squared Error: 6746.26\n"
     ]
    }
   ],
   "source": [
    "from joblib import dump, load\n",
    "import numpy as np\n",
    "model = load('price.joblib') \n",
    "features = np.array([[-5.43942006, 4.12628155, -1.6165014, -0.67288841, -1.42262747,\n",
    "       -11.44443979304, -49.31238772,  7.61111401, -26.0016879 , -0.5778192 ,\n",
    "       -0.97491834,  0.41164221, -66.86091034]])\n",
    "model.predict(features)\n",
    "\n",
    "# from sklearn.metrics import accuracy_score\n",
    "# accuracy = accuracy_score(X_test, X_test_prepared)\n",
    "# print(f\"Accuracy: {accuracy:.2f}\")"
   ]
  },
  {
   "cell_type": "code",
   "execution_count": 25,
   "id": "4625d50b",
   "metadata": {},
   "outputs": [],
   "source": [
    "import pickle\n",
    "pickle.dump(model,open(\"regmodel.pkl\",\"wb\"))"
   ]
  },
  {
   "cell_type": "code",
   "execution_count": null,
   "id": "5951c466",
   "metadata": {},
   "outputs": [
    {
     "data": {
      "text/plain": [
       "array([0.18])"
      ]
     },
     "execution_count": 26,
     "metadata": {},
     "output_type": "execute_result"
    }
   ],
   "source": [
    "loads=pickle.load(open(\"regmodel.pkl\",\"rb\"))\n",
    "loads.predict(features)"
   ]
  },
  {
   "cell_type": "code",
   "execution_count": null,
   "id": "db58435f",
   "metadata": {},
   "outputs": [],
   "source": []
  }
 ],
 "metadata": {
  "kernelspec": {
   "display_name": "Python 3",
   "language": "python",
   "name": "python3"
  },
  "language_info": {
   "codemirror_mode": {
    "name": "ipython",
    "version": 3
   },
   "file_extension": ".py",
   "mimetype": "text/x-python",
   "name": "python",
   "nbconvert_exporter": "python",
   "pygments_lexer": "ipython3",
   "version": "3.12.1"
  }
 },
 "nbformat": 4,
 "nbformat_minor": 5
}
